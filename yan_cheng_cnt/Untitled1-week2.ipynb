{
 "cells": [
  {
   "cell_type": "code",
   "execution_count": 23,
   "metadata": {},
   "outputs": [
    {
     "data": {
      "text/html": [
       "<div>\n",
       "<style scoped>\n",
       "    .dataframe tbody tr th:only-of-type {\n",
       "        vertical-align: middle;\n",
       "    }\n",
       "\n",
       "    .dataframe tbody tr th {\n",
       "        vertical-align: top;\n",
       "    }\n",
       "\n",
       "    .dataframe thead th {\n",
       "        text-align: right;\n",
       "    }\n",
       "</style>\n",
       "<table border=\"1\" class=\"dataframe\">\n",
       "  <thead>\n",
       "    <tr style=\"text-align: right;\">\n",
       "      <th></th>\n",
       "      <th>date</th>\n",
       "      <th>day_of_week</th>\n",
       "      <th>cnt</th>\n",
       "      <th>time</th>\n",
       "    </tr>\n",
       "  </thead>\n",
       "  <tbody>\n",
       "    <tr>\n",
       "      <th>0</th>\n",
       "      <td>7</td>\n",
       "      <td>2</td>\n",
       "      <td>4146</td>\n",
       "      <td>20080107</td>\n",
       "    </tr>\n",
       "    <tr>\n",
       "      <th>1</th>\n",
       "      <td>13</td>\n",
       "      <td>2</td>\n",
       "      <td>2386</td>\n",
       "      <td>20080113</td>\n",
       "    </tr>\n",
       "    <tr>\n",
       "      <th>2</th>\n",
       "      <td>20</td>\n",
       "      <td>2</td>\n",
       "      <td>2700</td>\n",
       "      <td>20080120</td>\n",
       "    </tr>\n",
       "    <tr>\n",
       "      <th>3</th>\n",
       "      <td>26</td>\n",
       "      <td>2</td>\n",
       "      <td>3016</td>\n",
       "      <td>20080126</td>\n",
       "    </tr>\n",
       "    <tr>\n",
       "      <th>4</th>\n",
       "      <td>33</td>\n",
       "      <td>2</td>\n",
       "      <td>4059</td>\n",
       "      <td>20080202</td>\n",
       "    </tr>\n",
       "    <tr>\n",
       "      <th>5</th>\n",
       "      <td>42</td>\n",
       "      <td>2</td>\n",
       "      <td>1740</td>\n",
       "      <td>20080211</td>\n",
       "    </tr>\n",
       "    <tr>\n",
       "      <th>6</th>\n",
       "      <td>48</td>\n",
       "      <td>2</td>\n",
       "      <td>1844</td>\n",
       "      <td>20080217</td>\n",
       "    </tr>\n",
       "    <tr>\n",
       "      <th>7</th>\n",
       "      <td>54</td>\n",
       "      <td>2</td>\n",
       "      <td>1900</td>\n",
       "      <td>20080223</td>\n",
       "    </tr>\n",
       "    <tr>\n",
       "      <th>8</th>\n",
       "      <td>61</td>\n",
       "      <td>2</td>\n",
       "      <td>1812</td>\n",
       "      <td>20080301</td>\n",
       "    </tr>\n",
       "    <tr>\n",
       "      <th>9</th>\n",
       "      <td>67</td>\n",
       "      <td>2</td>\n",
       "      <td>1889</td>\n",
       "      <td>20080307</td>\n",
       "    </tr>\n",
       "  </tbody>\n",
       "</table>\n",
       "</div>"
      ],
      "text/plain": [
       "   date day_of_week   cnt      time\n",
       "0     7           2  4146  20080107\n",
       "1    13           2  2386  20080113\n",
       "2    20           2  2700  20080120\n",
       "3    26           2  3016  20080126\n",
       "4    33           2  4059  20080202\n",
       "5    42           2  1740  20080211\n",
       "6    48           2  1844  20080217\n",
       "7    54           2  1900  20080223\n",
       "8    61           2  1812  20080301\n",
       "9    67           2  1889  20080307"
      ]
     },
     "execution_count": 23,
     "metadata": {},
     "output_type": "execute_result"
    }
   ],
   "source": [
    "#导入第三方包\n",
    "import pandas as pd\n",
    "import numpy as np\n",
    "import matplotlib.pyplot as plt\n",
    "import statsmodels.api as sm\n",
    "from scipy import  stats\n",
    "import scipy.stats.mstats as mst\n",
    "from statsmodels.graphics.api import qqplot\n",
    "dir = './data/'\n",
    "df = pd.read_csv(dir+'week2.csv',engine='python',sep=\",\")\n",
    "df['day_of_week']=df['day_of_week'].astype('str')\n",
    "df.head(10)"
   ]
  },
  {
   "cell_type": "code",
   "execution_count": 24,
   "metadata": {
    "collapsed": true
   },
   "outputs": [],
   "source": [
    "#dateparse = lambda dates: pd.datetime.strptime(time, '%Y/%m/%d')\n",
    "#data = pd.read_csv('mian.csv', parse_dates='time', index_col='time',date_parser=dateparse)"
   ]
  },
  {
   "cell_type": "code",
   "execution_count": 25,
   "metadata": {},
   "outputs": [
    {
     "data": {
      "text/plain": [
       "pandas.core.series.Series"
      ]
     },
     "execution_count": 25,
     "metadata": {},
     "output_type": "execute_result"
    }
   ],
   "source": [
    "dta=df['cnt']\n",
    "type(dta)"
   ]
  },
  {
   "cell_type": "code",
   "execution_count": 26,
   "metadata": {},
   "outputs": [
    {
     "data": {
      "image/png": "[encoded data removed]",
      "text/plain": [
       "<matplotlib.figure.Figure at 0xbc6c160>"
      ]
     },
     "metadata": {},
     "output_type": "display_data"
    },
    {
     "data": {
      "image/png": "[encoded data removed]",
      "text/plain": [
       "<matplotlib.figure.Figure at 0xbc94b38>"
      ]
     },
     "metadata": {},
     "output_type": "display_data"
    }
   ],
   "source": [
    "\n",
    "dta.plot(figsize=(12,8))\n",
    "plt.show() "
   ]
  },
  {
   "cell_type": "code",
   "execution_count": 27,
   "metadata": {},
   "outputs": [
    {
     "data": {
      "image/png": "[encoded data removed]",
      "text/plain": [
       "<matplotlib.figure.Figure at 0xbc949e8>"
      ]
     },
     "execution_count": 27,
     "metadata": {},
     "output_type": "execute_result"
    }
   ],
   "source": [
    "from statsmodels.graphics.tsaplots import plot_pacf,plot_acf\n",
    "plot_acf(dta)"
   ]
  },
  {
   "cell_type": "code",
   "execution_count": null,
   "metadata": {
    "collapsed": true
   },
   "outputs": [],
   "source": []
  },
  {
   "cell_type": "code",
   "execution_count": 28,
   "metadata": {},
   "outputs": [
    {
     "data": {
      "image/png": "[encoded data removed]",
      "text/plain": [
       "<matplotlib.figure.Figure at 0xc33a208>"
      ]
     },
     "execution_count": 28,
     "metadata": {},
     "output_type": "execute_result"
    }
   ],
   "source": [
    "plot_pacf(dta)"
   ]
  },
  {
   "cell_type": "code",
   "execution_count": null,
   "metadata": {
    "collapsed": true
   },
   "outputs": [],
   "source": []
  },
  {
   "cell_type": "code",
   "execution_count": 29,
   "metadata": {},
   "outputs": [
    {
     "data": {
      "text/plain": [
       "3.5459672359062219e-05"
      ]
     },
     "execution_count": 29,
     "metadata": {},
     "output_type": "execute_result"
    }
   ],
   "source": [
    "from statsmodels.tsa.stattools import adfuller\n",
    "def test_stationarity(timeseries):\n",
    "    dftest = adfuller(timeseries, autolag='AIC')\n",
    "    return dftest[1]#返回p值\n",
    "testADF=test_stationarity(dta)\n",
    "testADF"
   ]
  },
  {
   "cell_type": "code",
   "execution_count": 30,
   "metadata": {},
   "outputs": [
    {
     "data": {
      "text/html": [
       "<div>\n",
       "<style scoped>\n",
       "    .dataframe tbody tr th:only-of-type {\n",
       "        vertical-align: middle;\n",
       "    }\n",
       "\n",
       "    .dataframe tbody tr th {\n",
       "        vertical-align: top;\n",
       "    }\n",
       "\n",
       "    .dataframe thead th {\n",
       "        text-align: right;\n",
       "    }\n",
       "</style>\n",
       "<table border=\"1\" class=\"dataframe\">\n",
       "  <thead>\n",
       "    <tr style=\"text-align: right;\">\n",
       "      <th></th>\n",
       "      <th>value</th>\n",
       "    </tr>\n",
       "  </thead>\n",
       "  <tbody>\n",
       "    <tr>\n",
       "      <th>Test Statistic Value</th>\n",
       "      <td>-4.89629</td>\n",
       "    </tr>\n",
       "    <tr>\n",
       "      <th>p-value</th>\n",
       "      <td>3.54597e-05</td>\n",
       "    </tr>\n",
       "    <tr>\n",
       "      <th>Lags Used</th>\n",
       "      <td>2</td>\n",
       "    </tr>\n",
       "    <tr>\n",
       "      <th>Number of Observations Used</th>\n",
       "      <td>160</td>\n",
       "    </tr>\n",
       "    <tr>\n",
       "      <th>Critical Value(1%)</th>\n",
       "      <td>-3.4719</td>\n",
       "    </tr>\n",
       "    <tr>\n",
       "      <th>Critical Value(5%)</th>\n",
       "      <td>-2.87978</td>\n",
       "    </tr>\n",
       "    <tr>\n",
       "      <th>Critical Value(10%)</th>\n",
       "      <td>-2.57649</td>\n",
       "    </tr>\n",
       "  </tbody>\n",
       "</table>\n",
       "</div>"
      ],
      "text/plain": [
       "                                   value\n",
       "Test Statistic Value            -4.89629\n",
       "p-value                      3.54597e-05\n",
       "Lags Used                              2\n",
       "Number of Observations Used          160\n",
       "Critical Value(1%)               -3.4719\n",
       "Critical Value(5%)              -2.87978\n",
       "Critical Value(10%)             -2.57649"
      ]
     },
     "execution_count": 30,
     "metadata": {},
     "output_type": "execute_result"
    }
   ],
   "source": [
    "t = sm.tsa.stattools.adfuller(dta)  # ADF检验\n",
    "output=pd.DataFrame(index=['Test Statistic Value', \"p-value\", \"Lags Used\", \"Number of Observations Used\",\"Critical Value(1%)\",\"Critical Value(5%)\",\"Critical Value(10%)\"],columns=['value'])\n",
    "output['value']['Test Statistic Value'] = t[0]\n",
    "output['value']['p-value'] = t[1]\n",
    "output['value']['Lags Used'] = t[2]\n",
    "output['value']['Number of Observations Used'] = t[3]\n",
    "output['value']['Critical Value(1%)'] = t[4]['1%']\n",
    "output['value']['Critical Value(5%)'] = t[4]['5%']\n",
    "output['value']['Critical Value(10%)'] = t[4]['10%']\n",
    "output"
   ]
  },
  {
   "cell_type": "code",
   "execution_count": 31,
   "metadata": {},
   "outputs": [
    {
     "name": "stdout",
     "output_type": "stream",
     "text": [
      "差分序列的白噪声检验结果为： (array([ 8.14204823]), array([ 0.00432504]))\n"
     ]
    }
   ],
   "source": [
    "from statsmodels.stats.diagnostic import acorr_ljungbox\n",
    "#返回统计量和p值\n",
    "print(u'差分序列的白噪声检验结果为：', acorr_ljungbox(dta, lags=1))\n",
    "p_value1=acorr_ljungbox(dta, lags=1)[1]"
   ]
  },
  {
   "cell_type": "code",
   "execution_count": null,
   "metadata": {},
   "outputs": [
    {
     "name": "stdout",
     "output_type": "stream",
     "text": [
      "P值小于0.05，序列为平稳非白噪声序列\n"
     ]
    }
   ],
   "source": [
    "if(p_value1<0.05):\n",
    "    print('P值小于0.05，序列为平稳非白噪声序列')\n",
    "else:\n",
    "    print('P值大于等于0.05，序列为白噪声序列')"
   ]
  },
  {
   "cell_type": "code",
   "execution_count": null,
   "metadata": {},
   "outputs": [
    {
     "name": "stdout",
     "output_type": "stream",
     "text": [
      "******************** Strating *********************\n",
      "1\n",
      "model training and testing data...\n",
      "2\n",
      "model training and testing data...\n",
      "3\n",
      "model training and testing data...\n",
      "4\n",
      "model training and testing data...\n",
      "5\n",
      "model training and testing data...\n",
      "6\n",
      "model training and testing data...\n",
      "7\n",
      "model training and testing data...\n",
      "8\n",
      "model training and testing data...\n",
      "9\n",
      "model training and testing data...\n",
      "10\n",
      "model training and testing data...\n",
      "11\n",
      "model training and testing data...\n",
      "12\n",
      "model training and testing data...\n",
      "13\n",
      "model training and testing data...\n",
      "14\n",
      "model training and testing data...\n",
      "15\n",
      "model training and testing data...\n",
      "16\n",
      "model training and testing data...\n",
      "17\n",
      "model training and testing data...\n",
      "18\n",
      "model training and testing data...\n",
      "19\n",
      "model training and testing data...\n",
      "20\n",
      "model training and testing data...\n",
      "21\n",
      "model training and testing data...\n",
      "22\n",
      "model training and testing data...\n",
      "23\n",
      "model training and testing data...\n",
      "24\n",
      "model training and testing data...\n",
      "25\n",
      "model training and testing data...\n",
      "26\n",
      "model training and testing data...\n",
      "27\n",
      "model training and testing data...\n",
      "28\n",
      "model training and testing data...\n",
      "29\n",
      "model training and testing data...\n",
      "30\n",
      "model training and testing data...\n",
      "31\n",
      "model training and testing data...\n",
      "32\n",
      "model training and testing data...\n",
      "33\n",
      "model training and testing data...\n",
      "34\n",
      "model training and testing data...\n",
      "35\n",
      "model training and testing data...\n",
      "36\n",
      "model training and testing data...\n",
      "37\n",
      "model training and testing data...\n",
      "38\n",
      "model training and testing data...\n",
      "39\n",
      "model training and testing data...\n",
      "40\n",
      "model training and testing data...\n",
      "41\n",
      "model training and testing data...\n",
      "42\n",
      "model training and testing data...\n",
      "43\n",
      "model training and testing data...\n",
      "44\n",
      "model training and testing data...\n",
      "45\n",
      "model training and testing data...\n",
      "46\n",
      "model training and testing data...\n",
      "47\n",
      "model training and testing data...\n",
      "48\n",
      "model training and testing data...\n",
      "49\n",
      "model training and testing data...\n",
      "50\n",
      "model training and testing data...\n",
      "51\n",
      "model training and testing data...\n",
      "52\n",
      "model training and testing data...\n",
      "53\n",
      "model training and testing data...\n",
      "54\n",
      "model training and testing data...\n",
      "55\n",
      "model training and testing data...\n",
      "56\n",
      "model training and testing data...\n",
      "57\n",
      "model training and testing data...\n",
      "58\n",
      "model training and testing data...\n",
      "59\n",
      "model training and testing data...\n",
      "60\n",
      "model training and testing data...\n",
      "61\n",
      "model training and testing data...\n",
      "62\n",
      "model training and testing data...\n",
      "63\n",
      "model training and testing data...\n",
      "64\n",
      "model training and testing data...\n",
      "65\n",
      "model training and testing data...\n",
      "66\n",
      "model training and testing data...\n",
      "67\n",
      "model training and testing data...\n",
      "68\n",
      "model training and testing data...\n",
      "69\n",
      "model training and testing data...\n",
      "70\n",
      "model training and testing data...\n",
      "71\n",
      "model training and testing data...\n",
      "72\n",
      "model training and testing data...\n",
      "73\n",
      "model training and testing data...\n",
      "74\n",
      "model training and testing data...\n",
      "75\n",
      "model training and testing data...\n",
      "76\n",
      "model training and testing data...\n",
      "77\n",
      "model training and testing data...\n",
      "78\n",
      "model training and testing data...\n"
     ]
    }
   ],
   "source": [
    "#!usr/bin/env python\n",
    "#-*- coding: utf-8 -*-\n",
    "#回归base model初选\n",
    "\n",
    "import sys\n",
    "import os\n",
    "import time\n",
    "from sklearn import metrics\n",
    "import numpy as np\n",
    "from sklearn import model_selection\n",
    "import datetime\n",
    "import sklearn\n",
    "import datetime\n",
    "\n",
    "\n",
    "#reload(sys)\n",
    "#sys.setdefaultencoding('utf8')\n",
    "\n",
    "\n",
    "# KNN Regressor\n",
    "def knn_Regressor(train_x, train_y):\n",
    "    from sklearn.neighbors import KNeighborsRegressor\n",
    "    model = KNeighborsRegressor(n_jobs=-1)\n",
    "    model.fit(train_x, train_y)\n",
    "    return model\n",
    "\n",
    "\n",
    "# Logistic Regression Regressor\n",
    "def logistic_regression_Regressor(train_x, train_y):\n",
    "    from sklearn.linear_model import LinearRegression\n",
    "    model = LinearRegression(n_jobs=-1)\n",
    "    model.fit(train_x, train_y)\n",
    "    return model\n",
    "\n",
    "\n",
    "# Random Forest Regressor\n",
    "def random_forest_Regressor(train_x, train_y):\n",
    "    from sklearn.ensemble import RandomForestRegressor\n",
    "    model = RandomForestRegressor(n_jobs=-1)\n",
    "    model.fit(train_x, train_y)\n",
    "    return model\n",
    "\n",
    "\n",
    "# Decision Tree Regressor\n",
    "def decision_tree_Regressor(train_x, train_y):\n",
    "    from sklearn import tree\n",
    "    model = tree.DecisionTreeRegressor()\n",
    "    model.fit(train_x, train_y)\n",
    "    return model\n",
    "\n",
    "# AdaBoostRegressor\n",
    "def AdaBoostRegressor(train_x, train_y):\n",
    "    from sklearn.ensemble import AdaBoostRegressor\n",
    "    model = AdaBoostRegressor()\n",
    "    model.fit(train_x, train_y)\n",
    "    return model\n",
    "\n",
    "# GBDT(Gradient Boosting Decision Tree) Regressor\n",
    "def gradient_boosting_Regressor(train_x, train_y):\n",
    "    from sklearn.ensemble import GradientBoostingRegressor\n",
    "    model = GradientBoostingRegressor()\n",
    "    model.fit(train_x, train_y)\n",
    "    return model\n",
    "\n",
    "\n",
    "# SVM Regressor\n",
    "def svm_Regressor(train_x, train_y):\n",
    "    from sklearn.svm import SVR\n",
    "    model = SVR()\n",
    "    model.fit(train_x, train_y)\n",
    "    return model\n",
    "\n",
    "def SGDRegressor(train_x, train_y):\n",
    "    from sklearn.linear_model import SGDRegressor\n",
    "    model = SGDRegressor(max_iter=5,tol=None)\n",
    "    model.fit(train_x, train_y)\n",
    "    return model\n",
    "\n",
    "\n",
    "#分割数据集，生成测试和训练集\n",
    "def read_data(df):\n",
    "    data=df[['date']]\n",
    "    target=df['cnt']\n",
    "    train_x, test_x, train_y, test_y= model_selection.train_test_split(data,target)\n",
    "    return train_x, test_x, train_y, test_y,\n",
    "\n",
    "if __name__ == '__main__':\n",
    "    model_score={'KNN':0, 'LR':0, 'RF':0, 'DT':0, 'SVM':0, 'GBDT':0,'ADA':0,'SGD':0}\n",
    "    test_Regressors = ['KNN', 'LR','RF', 'DT','SVM','GBDT','ADA','SGD']\n",
    "    Regressors = {'LR':logistic_regression_Regressor,\n",
    "   'RF':random_forest_Regressor,\n",
    "   'DT':decision_tree_Regressor,\n",
    "  'SVM':svm_Regressor,'SGD':SGDRegressor,'KNN':knn_Regressor,\n",
    " 'GBDT':gradient_boosting_Regressor,'ADA':AdaBoostRegressor\n",
    "    }\n",
    "\n",
    "\n",
    "\n",
    "\n",
    "    print('******************** Strating *********************')\n",
    "\n",
    "\n",
    "    starttime = datetime.datetime.now()\n",
    "    name=''\n",
    "    temp=0\n",
    "   \n",
    "    for i in range(1,101):\n",
    "        train_x, test_x, train_y, test_y = read_data(df)\n",
    "        print(i)\n",
    "        print('model training and testing data...')\n",
    "        for Regressor in test_Regressors:\t\n",
    "            #print('******************* %s ********************' % Regressor)\t\n",
    "            start_time = time.time()\t\n",
    "            model = Regressors[Regressor](train_x, train_y)\t\n",
    "            #print('training took %fs!' % (time.time() - start_time))\t\n",
    "            predict = model.predict(test_x)\n",
    "            p=predict.astype(int)\n",
    "            #模型拟合测试集\n",
    "            from sklearn import metrics\n",
    "            # 用scikit-learn计算MSE\n",
    "            mse=metrics.mean_squared_error(test_y, p)\n",
    "            #print(mse)\n",
    "            if(temp==0):\n",
    "                temp=mse\n",
    "                name=Regressor\n",
    "                save_model=model\n",
    "            else:\n",
    "                if(temp>mse):\n",
    "                    temp=mse\n",
    "                    name=Regressor\n",
    "                    model_score[Regressor]=model_score[Regressor]+1\n",
    "                    save_model=model\n",
    "        i=i+1\n",
    "\n",
    "    endtime = datetime.datetime.now()\n",
    "    print('training took %fs!' % (endtime - starttime).seconds)\n",
    "    print('model name: %s' % name)\n",
    "    print('lowestmse')\n",
    "    print(temp)\n",
    "    print(model_score)\n",
    "    from sklearn.externals import joblib\n",
    "    joblib.dump(save_model, dir+'my_model-week2.pkl')"
   ]
  },
  {
   "cell_type": "code",
   "execution_count": null,
   "metadata": {
    "collapsed": true
   },
   "outputs": [],
   "source": []
  },
  {
   "cell_type": "code",
   "execution_count": null,
   "metadata": {
    "collapsed": true
   },
   "outputs": [],
   "source": []
  },
  {
   "cell_type": "code",
   "execution_count": null,
   "metadata": {
    "collapsed": true
   },
   "outputs": [],
   "source": []
  }
 ],
 "metadata": {
  "kernelspec": {
   "display_name": "Python 3",
   "language": "python",
   "name": "python3"
  },
  "language_info": {
   "codemirror_mode": {
    "name": "ipython",
    "version": 3
   },
   "file_extension": ".py",
   "mimetype": "text/x-python",
   "name": "python",
   "nbconvert_exporter": "python",
   "pygments_lexer": "ipython3",
   "version": "3.6.3"
  }
 },
 "nbformat": 4,
 "nbformat_minor": 2
}
