{
 "cells": [
  {
   "cell_type": "code",
   "execution_count": 1,
   "metadata": {},
   "outputs": [
    {
     "data": {
      "text/html": [
       "<div>\n",
       "<style scoped>\n",
       "    .dataframe tbody tr th:only-of-type {\n",
       "        vertical-align: middle;\n",
       "    }\n",
       "\n",
       "    .dataframe tbody tr th {\n",
       "        vertical-align: top;\n",
       "    }\n",
       "\n",
       "    .dataframe thead th {\n",
       "        text-align: right;\n",
       "    }\n",
       "</style>\n",
       "<table border=\"1\" class=\"dataframe\">\n",
       "  <thead>\n",
       "    <tr style=\"text-align: right;\">\n",
       "      <th></th>\n",
       "      <th>date</th>\n",
       "      <th>day_of_week</th>\n",
       "    </tr>\n",
       "  </thead>\n",
       "  <tbody>\n",
       "    <tr>\n",
       "      <th>0</th>\n",
       "      <td>1308</td>\n",
       "      <td>5</td>\n",
       "    </tr>\n",
       "    <tr>\n",
       "      <th>1</th>\n",
       "      <td>1309</td>\n",
       "      <td>6</td>\n",
       "    </tr>\n",
       "    <tr>\n",
       "      <th>2</th>\n",
       "      <td>1310</td>\n",
       "      <td>7</td>\n",
       "    </tr>\n",
       "    <tr>\n",
       "      <th>3</th>\n",
       "      <td>1311</td>\n",
       "      <td>1</td>\n",
       "    </tr>\n",
       "    <tr>\n",
       "      <th>4</th>\n",
       "      <td>1312</td>\n",
       "      <td>2</td>\n",
       "    </tr>\n",
       "    <tr>\n",
       "      <th>5</th>\n",
       "      <td>1313</td>\n",
       "      <td>3</td>\n",
       "    </tr>\n",
       "    <tr>\n",
       "      <th>6</th>\n",
       "      <td>1314</td>\n",
       "      <td>4</td>\n",
       "    </tr>\n",
       "    <tr>\n",
       "      <th>7</th>\n",
       "      <td>1315</td>\n",
       "      <td>5</td>\n",
       "    </tr>\n",
       "    <tr>\n",
       "      <th>8</th>\n",
       "      <td>1316</td>\n",
       "      <td>6</td>\n",
       "    </tr>\n",
       "    <tr>\n",
       "      <th>9</th>\n",
       "      <td>1317</td>\n",
       "      <td>1</td>\n",
       "    </tr>\n",
       "  </tbody>\n",
       "</table>\n",
       "</div>"
      ],
      "text/plain": [
       "   date  day_of_week\n",
       "0  1308            5\n",
       "1  1309            6\n",
       "2  1310            7\n",
       "3  1311            1\n",
       "4  1312            2\n",
       "5  1313            3\n",
       "6  1314            4\n",
       "7  1315            5\n",
       "8  1316            6\n",
       "9  1317            1"
      ]
     },
     "execution_count": 1,
     "metadata": {},
     "output_type": "execute_result"
    }
   ],
   "source": [
    "#导入第三方包\n",
    "import pandas as pd\n",
    "\n",
    "import numpy as np\n",
    "\n",
    "import matplotlib.pyplot as plt\n",
    "\n",
    "import scipy.stats.mstats as mst\n",
    "\n",
    "import matplotlib as mpl\n",
    "\n",
    "\n",
    "plt.style.use('ggplot')\n",
    "\n",
    "#设定目录及读取数据文件\n",
    "dir = './data/prophet/'\n",
    "testdf=pd.read_table(dir + 'test_B_20171225.txt',engine='python')\n",
    "testdf.head(10)"
   ]
  },
  {
   "cell_type": "code",
   "execution_count": 2,
   "metadata": {},
   "outputs": [
    {
     "name": "stdout",
     "output_type": "stream",
     "text": [
      "   date  day_of_week  brand    LR_brand  RF_brand  DT_brand  XGB_brand  \\\n",
      "0  1308            5      1  389.432558       436       494      627.0   \n",
      "1  1309            6      1  316.828094        71        71      494.0   \n",
      "2  1310            7      1  244.223630        20        71        0.0   \n",
      "3  1311            1      1  680.647741       732       931      798.0   \n",
      "4  1312            2      1  608.043277       732       808      798.0   \n",
      "5  1313            3      1  535.438813       732       732      436.0   \n",
      "6  1314            4      1  462.834348       436       436      436.0   \n",
      "7  1315            5      1  390.229884       436       494      627.0   \n",
      "8  1316            6      1  317.625419        71        71      494.0   \n",
      "9  1317            1      1  681.331163       732       931      798.0   \n",
      "\n",
      "   ADA_brand  \n",
      "0        436  \n",
      "1        119  \n",
      "2        214  \n",
      "3        436  \n",
      "4        436  \n",
      "5        436  \n",
      "6        436  \n",
      "7        436  \n",
      "8        119  \n",
      "9        436  \n"
     ]
    }
   ],
   "source": [
    "brand1=testdf\n",
    "from sklearn.externals import joblib\n",
    "brand1['brand']=1\n",
    "data1=brand1[['day_of_week','date']]\n",
    "model=['LR_brand','RF_brand', 'DT_brand','XGB_brand','ADA_brand']\n",
    "for i in model:\n",
    "    model = joblib.load(dir+i+'1.pkl')\n",
    "    brand1[i]=model.predict(data1)\n",
    "print(brand1.head(10))\n",
    "brand1.to_csv(dir + 'tbrand1.csv',index=False)"
   ]
  },
  {
   "cell_type": "code",
   "execution_count": 3,
   "metadata": {},
   "outputs": [
    {
     "name": "stdout",
     "output_type": "stream",
     "text": [
      "   date  day_of_week  brand    LR_brand  RF_brand  DT_brand  XGB_brand  \\\n",
      "0  1308            5      2  507.581974       393       954      393.0   \n",
      "1  1309            6      2  448.235909        86        86      134.0   \n",
      "2  1310            7      2  388.889843        17        86        0.0   \n",
      "3  1311            1      2  746.829007       393       982      594.0   \n",
      "4  1312            2      2  687.482942      1242      1242     1242.0   \n",
      "5  1313            3      2  628.136876       645       726     1242.0   \n",
      "6  1314            4      2  568.790811       393       393      482.0   \n",
      "7  1315            5      2  509.444746       393       954      393.0   \n",
      "8  1316            6      2  450.098680        86        86      134.0   \n",
      "9  1317            1      2  748.425669       393       982      594.0   \n",
      "\n",
      "   ADA_brand  \n",
      "0        393  \n",
      "1        393  \n",
      "2        726  \n",
      "3        393  \n",
      "4        393  \n",
      "5        393  \n",
      "6        393  \n",
      "7        393  \n",
      "8        393  \n",
      "9        393  \n"
     ]
    }
   ],
   "source": [
    "brand2=testdf\n",
    "brand2['brand']=2\n",
    "data2=brand2[['day_of_week','date']]\n",
    "model=['LR_brand','RF_brand', 'DT_brand','ADA_brand','XGB_brand']\n",
    "for i in model:\n",
    "    model = joblib.load(dir+i+'2.pkl')\n",
    "    brand2[i]=model.predict(data2)\n",
    "print(brand2.head(10))\n",
    "brand2.to_csv(dir + 'tbrand2.csv',index=False)"
   ]
  },
  {
   "cell_type": "code",
   "execution_count": 4,
   "metadata": {},
   "outputs": [
    {
     "name": "stdout",
     "output_type": "stream",
     "text": [
      "   date  day_of_week  brand    LR_brand  RF_brand  DT_brand  XGB_brand  \\\n",
      "0  1308            5      3  423.672679       420       420      117.0   \n",
      "1  1309            6      3  374.417548       117       117       58.0   \n",
      "2  1310            7      3  325.162418       480       117       58.0   \n",
      "3  1311            1      3  622.082021       700       700      235.0   \n",
      "4  1312            2      3  572.826891       467       467      467.0   \n",
      "5  1313            3      3  523.571760       490       490      218.0   \n",
      "6  1314            4      3  474.316630       235       235      235.0   \n",
      "7  1315            5      3  425.061499       420       420      117.0   \n",
      "8  1316            6      3  375.806369       117       117       58.0   \n",
      "9  1317            1      3  623.272439       700       700      235.0   \n",
      "\n",
      "   ADA_brand  \n",
      "0        235  \n",
      "1        490  \n",
      "2        490  \n",
      "3        235  \n",
      "4        235  \n",
      "5        235  \n",
      "6        235  \n",
      "7        235  \n",
      "8        490  \n",
      "9        235  \n"
     ]
    }
   ],
   "source": [
    "brand3=testdf\n",
    "brand3['brand']=3\n",
    "data3=brand3[['day_of_week','date']]\n",
    "model=['LR_brand','RF_brand', 'DT_brand','ADA_brand','XGB_brand']\n",
    "for i in model:\n",
    "    model = joblib.load(dir+i+'3.pkl')\n",
    "    brand3[i]=model.predict(data3)\n",
    "print(brand3.head(10))\n",
    "brand3.to_csv(dir + 'tbrand3.csv',index=False)"
   ]
  },
  {
   "cell_type": "code",
   "execution_count": 5,
   "metadata": {},
   "outputs": [
    {
     "name": "stdout",
     "output_type": "stream",
     "text": [
      "   date  day_of_week  brand    LR_brand  RF_brand  DT_brand  XGB_brand  \\\n",
      "0  1308            5      4  264.200099       343       343      242.0   \n",
      "1  1309            6      4  217.600639       165       165      165.0   \n",
      "2  1310            7      4  171.001179        28       165      165.0   \n",
      "3  1311            1      4  450.766407       316       316      242.0   \n",
      "4  1312            2      4  404.166947       593       593      242.0   \n",
      "5  1313            3      4  357.567487       277       277      400.0   \n",
      "6  1314            4      4  310.968027       386       242      242.0   \n",
      "7  1315            5      4  264.368567       343       343      242.0   \n",
      "8  1316            6      4  217.769107       165       165      165.0   \n",
      "9  1317            1      4  450.910808       316       316      242.0   \n",
      "\n",
      "   ADA_brand  \n",
      "0        211  \n",
      "1        128  \n",
      "2         26  \n",
      "3        211  \n",
      "4        211  \n",
      "5        211  \n",
      "6        211  \n",
      "7        211  \n",
      "8        128  \n",
      "9        211  \n"
     ]
    }
   ],
   "source": [
    "brand4=testdf\n",
    "brand4['brand']=4\n",
    "data4=brand4[['day_of_week','date']]\n",
    "model=['LR_brand','RF_brand', 'DT_brand','ADA_brand','XGB_brand']\n",
    "for i in model:\n",
    "    model = joblib.load(dir+i+'4.pkl')\n",
    "    brand4[i]=model.predict(data4)\n",
    "print(brand4.head(10))\n",
    "brand4.to_csv(dir + 'tbrand4.csv',index=False)"
   ]
  },
  {
   "cell_type": "code",
   "execution_count": 6,
   "metadata": {},
   "outputs": [
    {
     "name": "stdout",
     "output_type": "stream",
     "text": [
      "   date  day_of_week  brand    LR_brand  RF_brand  DT_brand  XGB_brand  \\\n",
      "0  1308            5      5  271.147196       359       359      288.0   \n",
      "1  1309            6      5  205.643429        28        28       84.0   \n",
      "2  1310            7      5  140.139663        24        28        0.0   \n",
      "3  1311            1      5  532.736399       270       404      288.0   \n",
      "4  1312            2      5  467.232633       786       786      288.0   \n",
      "5  1313            3      5  401.728866       288       288      288.0   \n",
      "6  1314            4      5  336.225100       432       432      288.0   \n",
      "7  1315            5      5  270.721333       359       359      288.0   \n",
      "8  1316            6      5  205.217567        28        28       84.0   \n",
      "9  1317            1      5  532.371374       270       404      288.0   \n",
      "\n",
      "   ADA_brand  \n",
      "0        227  \n",
      "1         28  \n",
      "2         22  \n",
      "3        227  \n",
      "4        227  \n",
      "5        227  \n",
      "6        227  \n",
      "7        227  \n",
      "8         28  \n",
      "9        227  \n"
     ]
    }
   ],
   "source": [
    "brand5=testdf\n",
    "brand5['brand']=5\n",
    "data5=brand5[['day_of_week','date']]\n",
    "model=['LR_brand','RF_brand', 'DT_brand','ADA_brand','XGB_brand']\n",
    "for i in model:\n",
    "    model = joblib.load(dir+i+'5.pkl')\n",
    "    brand5[i]=model.predict(data5)\n",
    "print(brand5.head(10))\n",
    "brand5.to_csv(dir + 'tbrand5.csv',index=False)"
   ]
  },
  {
   "cell_type": "code",
   "execution_count": null,
   "metadata": {
    "collapsed": true
   },
   "outputs": [],
   "source": []
  },
  {
   "cell_type": "code",
   "execution_count": null,
   "metadata": {
    "collapsed": true
   },
   "outputs": [],
   "source": []
  }
 ],
 "metadata": {
  "kernelspec": {
   "display_name": "Python 3",
   "language": "python",
   "name": "python3"
  },
  "language_info": {
   "codemirror_mode": {
    "name": "ipython",
    "version": 3
   },
   "file_extension": ".py",
   "mimetype": "text/x-python",
   "name": "python",
   "nbconvert_exporter": "python",
   "pygments_lexer": "ipython3",
   "version": "3.6.3"
  }
 },
 "nbformat": 4,
 "nbformat_minor": 2
}
