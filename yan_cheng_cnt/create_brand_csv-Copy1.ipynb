{
 "cells": [
  {
   "cell_type": "code",
   "execution_count": 39,
   "metadata": {
    "collapsed": true
   },
   "outputs": [],
   "source": [
    "#导入第三方包\n",
    "import pandas as pd\n",
    "\n",
    "import numpy as np\n",
    "\n",
    "import matplotlib.pyplot as plt\n",
    "\n",
    "import scipy.stats.mstats as mst\n",
    "\n",
    "import matplotlib as mpl\n",
    "\n",
    "\n",
    "plt.style.use('ggplot')\n",
    "\n",
    "#设定目录及读取数据文件\n",
    "dir = './data/prophet/'\n",
    "df = pd.read_table(dir + 'train_20171215.txt',engine='python')\n",
    "test_A = pd.read_table(dir + 'test_A_20171225.txt',engine='python')\n",
    "sample_A = pd.read_table(dir + 'sample_A_20171225.txt',engine='python',header=None)\n",
    "sample_A.columns = ['date','day_of_week']"
   ]
  },
  {
   "cell_type": "code",
   "execution_count": 40,
   "metadata": {
    "collapsed": true
   },
   "outputs": [],
   "source": [
    "#合并一日期下各品牌效率\n",
    "#df = df.groupby(['date','day_of_week','brand'],as_index=False).cnt.sum()\n",
    "df2=df.groupby(['date','day_of_week'],as_index=False).cnt.sum()\n",
    "df['day_of_week']=df['day_of_week'].astype('category')"
   ]
  },
  {
   "cell_type": "code",
   "execution_count": 41,
   "metadata": {},
   "outputs": [
    {
     "data": {
      "text/html": [
       "<div>\n",
       "<style scoped>\n",
       "    .dataframe tbody tr th:only-of-type {\n",
       "        vertical-align: middle;\n",
       "    }\n",
       "\n",
       "    .dataframe tbody tr th {\n",
       "        vertical-align: top;\n",
       "    }\n",
       "\n",
       "    .dataframe thead th {\n",
       "        text-align: right;\n",
       "    }\n",
       "</style>\n",
       "<table border=\"1\" class=\"dataframe\">\n",
       "  <thead>\n",
       "    <tr style=\"text-align: right;\">\n",
       "      <th></th>\n",
       "      <th>date</th>\n",
       "      <th>day_of_week</th>\n",
       "      <th>cnt</th>\n",
       "    </tr>\n",
       "  </thead>\n",
       "  <tbody>\n",
       "    <tr>\n",
       "      <th>0</th>\n",
       "      <td>1</td>\n",
       "      <td>3</td>\n",
       "      <td>68</td>\n",
       "    </tr>\n",
       "    <tr>\n",
       "      <th>1</th>\n",
       "      <td>2</td>\n",
       "      <td>4</td>\n",
       "      <td>36</td>\n",
       "    </tr>\n",
       "    <tr>\n",
       "      <th>2</th>\n",
       "      <td>3</td>\n",
       "      <td>5</td>\n",
       "      <td>5565</td>\n",
       "    </tr>\n",
       "    <tr>\n",
       "      <th>3</th>\n",
       "      <td>4</td>\n",
       "      <td>6</td>\n",
       "      <td>4966</td>\n",
       "    </tr>\n",
       "    <tr>\n",
       "      <th>4</th>\n",
       "      <td>5</td>\n",
       "      <td>7</td>\n",
       "      <td>3346</td>\n",
       "    </tr>\n",
       "    <tr>\n",
       "      <th>5</th>\n",
       "      <td>6</td>\n",
       "      <td>1</td>\n",
       "      <td>3396</td>\n",
       "    </tr>\n",
       "    <tr>\n",
       "      <th>6</th>\n",
       "      <td>7</td>\n",
       "      <td>2</td>\n",
       "      <td>4146</td>\n",
       "    </tr>\n",
       "    <tr>\n",
       "      <th>7</th>\n",
       "      <td>8</td>\n",
       "      <td>3</td>\n",
       "      <td>3096</td>\n",
       "    </tr>\n",
       "    <tr>\n",
       "      <th>8</th>\n",
       "      <td>9</td>\n",
       "      <td>4</td>\n",
       "      <td>2713</td>\n",
       "    </tr>\n",
       "    <tr>\n",
       "      <th>9</th>\n",
       "      <td>10</td>\n",
       "      <td>5</td>\n",
       "      <td>2409</td>\n",
       "    </tr>\n",
       "  </tbody>\n",
       "</table>\n",
       "</div>"
      ],
      "text/plain": [
       "   date  day_of_week   cnt\n",
       "0     1            3    68\n",
       "1     2            4    36\n",
       "2     3            5  5565\n",
       "3     4            6  4966\n",
       "4     5            7  3346\n",
       "5     6            1  3396\n",
       "6     7            2  4146\n",
       "7     8            3  3096\n",
       "8     9            4  2713\n",
       "9    10            5  2409"
      ]
     },
     "execution_count": 41,
     "metadata": {},
     "output_type": "execute_result"
    }
   ],
   "source": [
    "df2.head(10)\n",
    "\n",
    "    "
   ]
  },
  {
   "cell_type": "code",
   "execution_count": 42,
   "metadata": {
    "collapsed": true
   },
   "outputs": [],
   "source": [
    "df2.to_csv(dir + 'testfomodel.csv',index=False)"
   ]
  },
  {
   "cell_type": "code",
   "execution_count": 43,
   "metadata": {},
   "outputs": [
    {
     "data": {
      "text/html": [
       "<div>\n",
       "<style scoped>\n",
       "    .dataframe tbody tr th:only-of-type {\n",
       "        vertical-align: middle;\n",
       "    }\n",
       "\n",
       "    .dataframe tbody tr th {\n",
       "        vertical-align: top;\n",
       "    }\n",
       "\n",
       "    .dataframe thead th {\n",
       "        text-align: right;\n",
       "    }\n",
       "</style>\n",
       "<table border=\"1\" class=\"dataframe\">\n",
       "  <thead>\n",
       "    <tr style=\"text-align: right;\">\n",
       "      <th></th>\n",
       "      <th>date</th>\n",
       "      <th>day_of_week</th>\n",
       "      <th>cnt</th>\n",
       "    </tr>\n",
       "  </thead>\n",
       "  <tbody>\n",
       "    <tr>\n",
       "      <th>0</th>\n",
       "      <td>1</td>\n",
       "      <td>3</td>\n",
       "      <td>68</td>\n",
       "    </tr>\n",
       "    <tr>\n",
       "      <th>1</th>\n",
       "      <td>2</td>\n",
       "      <td>4</td>\n",
       "      <td>36</td>\n",
       "    </tr>\n",
       "    <tr>\n",
       "      <th>2</th>\n",
       "      <td>3</td>\n",
       "      <td>5</td>\n",
       "      <td>5565</td>\n",
       "    </tr>\n",
       "    <tr>\n",
       "      <th>3</th>\n",
       "      <td>4</td>\n",
       "      <td>6</td>\n",
       "      <td>4966</td>\n",
       "    </tr>\n",
       "    <tr>\n",
       "      <th>4</th>\n",
       "      <td>5</td>\n",
       "      <td>7</td>\n",
       "      <td>3346</td>\n",
       "    </tr>\n",
       "    <tr>\n",
       "      <th>5</th>\n",
       "      <td>6</td>\n",
       "      <td>1</td>\n",
       "      <td>3396</td>\n",
       "    </tr>\n",
       "    <tr>\n",
       "      <th>6</th>\n",
       "      <td>7</td>\n",
       "      <td>2</td>\n",
       "      <td>4146</td>\n",
       "    </tr>\n",
       "    <tr>\n",
       "      <th>7</th>\n",
       "      <td>8</td>\n",
       "      <td>3</td>\n",
       "      <td>3096</td>\n",
       "    </tr>\n",
       "    <tr>\n",
       "      <th>8</th>\n",
       "      <td>9</td>\n",
       "      <td>4</td>\n",
       "      <td>2713</td>\n",
       "    </tr>\n",
       "    <tr>\n",
       "      <th>9</th>\n",
       "      <td>10</td>\n",
       "      <td>5</td>\n",
       "      <td>2409</td>\n",
       "    </tr>\n",
       "  </tbody>\n",
       "</table>\n",
       "</div>"
      ],
      "text/plain": [
       "   date  day_of_week   cnt\n",
       "0     1            3    68\n",
       "1     2            4    36\n",
       "2     3            5  5565\n",
       "3     4            6  4966\n",
       "4     5            7  3346\n",
       "5     6            1  3396\n",
       "6     7            2  4146\n",
       "7     8            3  3096\n",
       "8     9            4  2713\n",
       "9    10            5  2409"
      ]
     },
     "execution_count": 43,
     "metadata": {},
     "output_type": "execute_result"
    }
   ],
   "source": [
    "df3into=df2[['date','day_of_week','cnt']]\n",
    "df3into.head(10)"
   ]
  },
  {
   "cell_type": "code",
   "execution_count": 44,
   "metadata": {
    "collapsed": true
   },
   "outputs": [],
   "source": [
    "from sklearn.externals import joblib\n",
    "brand1=df3into\n",
    "brand1['brand']=1\n",
    "data1=brand1[['day_of_week','date']]\n",
    "model=['LR_brand','RF_brand', 'DT_brand','ADA_brand','XGB_brand']\n",
    "for i in model:\n",
    "    model = joblib.load(dir+i+'1.pkl')\n",
    "    brand1[i]=model.predict(data1)"
   ]
  },
  {
   "cell_type": "code",
   "execution_count": 45,
   "metadata": {
    "collapsed": true
   },
   "outputs": [],
   "source": [
    "brand1.to_csv(dir + 'brand1-t.csv',index=False)"
   ]
  },
  {
   "cell_type": "code",
   "execution_count": 46,
   "metadata": {
    "collapsed": true
   },
   "outputs": [],
   "source": [
    "brand2=df3into\n",
    "brand2['brand']=2\n",
    "data2=brand2[['day_of_week','date']]\n",
    "model=['LR_brand','RF_brand', 'DT_brand','ADA_brand','XGB_brand']\n",
    "for i in model:\n",
    "    model = joblib.load(dir+i+'2.pkl')\n",
    "    brand2[i]=model.predict(data2)\n",
    "    \n",
    "brand2.to_csv(dir + 'brand2-t.csv',index=False)"
   ]
  },
  {
   "cell_type": "code",
   "execution_count": 47,
   "metadata": {
    "collapsed": true
   },
   "outputs": [],
   "source": [
    "brand3=df3into\n",
    "brand3['brand']=3\n",
    "data3=brand3[['day_of_week','date']]\n",
    "model=['LR_brand','RF_brand', 'DT_brand','ADA_brand','XGB_brand']\n",
    "for i in model:\n",
    "    model = joblib.load(dir+i+'3.pkl')\n",
    "    brand3[i]=model.predict(data3)\n",
    "brand3.to_csv(dir + 'brand3-t.csv',index=False)"
   ]
  },
  {
   "cell_type": "code",
   "execution_count": 48,
   "metadata": {
    "collapsed": true
   },
   "outputs": [],
   "source": [
    "brand4=df3into\n",
    "brand4['brand']=4\n",
    "data4=brand4[['day_of_week','date']]\n",
    "model=['LR_brand','RF_brand', 'DT_brand','ADA_brand','XGB_brand']\n",
    "for i in model:\n",
    "    model = joblib.load(dir+i+'4.pkl')\n",
    "    brand4[i]=model.predict(data4)\n",
    "brand4.to_csv(dir + 'brand4-t.csv',index=False)"
   ]
  },
  {
   "cell_type": "code",
   "execution_count": 49,
   "metadata": {
    "collapsed": true
   },
   "outputs": [],
   "source": [
    "brand5=df3into\n",
    "brand5['brand']=5\n",
    "data5=brand5[['day_of_week','date']]\n",
    "model=['LR_brand','RF_brand', 'DT_brand','ADA_brand','XGB_brand']\n",
    "for i in model:\n",
    "    model = joblib.load(dir+i+'5.pkl')\n",
    "    brand5[i]=model.predict(data5)\n",
    "brand5.to_csv(dir + 'brand5-t.csv',index=False)"
   ]
  },
  {
   "cell_type": "code",
   "execution_count": 50,
   "metadata": {},
   "outputs": [
    {
     "data": {
      "text/html": [
       "<div>\n",
       "<style scoped>\n",
       "    .dataframe tbody tr th:only-of-type {\n",
       "        vertical-align: middle;\n",
       "    }\n",
       "\n",
       "    .dataframe tbody tr th {\n",
       "        vertical-align: top;\n",
       "    }\n",
       "\n",
       "    .dataframe thead th {\n",
       "        text-align: right;\n",
       "    }\n",
       "</style>\n",
       "<table border=\"1\" class=\"dataframe\">\n",
       "  <thead>\n",
       "    <tr style=\"text-align: right;\">\n",
       "      <th></th>\n",
       "      <th>date</th>\n",
       "      <th>day_of_week</th>\n",
       "      <th>cnt</th>\n",
       "      <th>brand</th>\n",
       "      <th>LR_brand</th>\n",
       "      <th>RF_brand</th>\n",
       "      <th>DT_brand</th>\n",
       "      <th>ADA_brand</th>\n",
       "      <th>XGB_brand</th>\n",
       "    </tr>\n",
       "  </thead>\n",
       "  <tbody>\n",
       "    <tr>\n",
       "      <th>0</th>\n",
       "      <td>1</td>\n",
       "      <td>3</td>\n",
       "      <td>68</td>\n",
       "      <td>5</td>\n",
       "      <td>481.547605</td>\n",
       "      <td>48</td>\n",
       "      <td>48</td>\n",
       "      <td>419</td>\n",
       "      <td>618</td>\n",
       "    </tr>\n",
       "    <tr>\n",
       "      <th>1</th>\n",
       "      <td>2</td>\n",
       "      <td>4</td>\n",
       "      <td>36</td>\n",
       "      <td>5</td>\n",
       "      <td>416.043838</td>\n",
       "      <td>585</td>\n",
       "      <td>585</td>\n",
       "      <td>419</td>\n",
       "      <td>321</td>\n",
       "    </tr>\n",
       "    <tr>\n",
       "      <th>2</th>\n",
       "      <td>3</td>\n",
       "      <td>5</td>\n",
       "      <td>5565</td>\n",
       "      <td>5</td>\n",
       "      <td>350.540072</td>\n",
       "      <td>1242</td>\n",
       "      <td>1242</td>\n",
       "      <td>419</td>\n",
       "      <td>618</td>\n",
       "    </tr>\n",
       "    <tr>\n",
       "      <th>3</th>\n",
       "      <td>4</td>\n",
       "      <td>6</td>\n",
       "      <td>4966</td>\n",
       "      <td>5</td>\n",
       "      <td>285.036305</td>\n",
       "      <td>129</td>\n",
       "      <td>129</td>\n",
       "      <td>25</td>\n",
       "      <td>51</td>\n",
       "    </tr>\n",
       "    <tr>\n",
       "      <th>4</th>\n",
       "      <td>5</td>\n",
       "      <td>7</td>\n",
       "      <td>3346</td>\n",
       "      <td>5</td>\n",
       "      <td>219.532539</td>\n",
       "      <td>602</td>\n",
       "      <td>602</td>\n",
       "      <td>1242</td>\n",
       "      <td>22</td>\n",
       "    </tr>\n",
       "  </tbody>\n",
       "</table>\n",
       "</div>"
      ],
      "text/plain": [
       "   date  day_of_week   cnt  brand    LR_brand  RF_brand  DT_brand  ADA_brand  \\\n",
       "0     1            3    68      5  481.547605        48        48        419   \n",
       "1     2            4    36      5  416.043838       585       585        419   \n",
       "2     3            5  5565      5  350.540072      1242      1242        419   \n",
       "3     4            6  4966      5  285.036305       129       129         25   \n",
       "4     5            7  3346      5  219.532539       602       602       1242   \n",
       "\n",
       "   XGB_brand  \n",
       "0        618  \n",
       "1        321  \n",
       "2        618  \n",
       "3         51  \n",
       "4         22  "
      ]
     },
     "execution_count": 50,
     "metadata": {},
     "output_type": "execute_result"
    }
   ],
   "source": [
    "brand2.head()"
   ]
  },
  {
   "cell_type": "code",
   "execution_count": null,
   "metadata": {
    "collapsed": true
   },
   "outputs": [],
   "source": []
  },
  {
   "cell_type": "code",
   "execution_count": null,
   "metadata": {
    "collapsed": true
   },
   "outputs": [],
   "source": []
  }
 ],
 "metadata": {
  "kernelspec": {
   "display_name": "Python 3",
   "language": "python",
   "name": "python3"
  },
  "language_info": {
   "codemirror_mode": {
    "name": "ipython",
    "version": 3
   },
   "file_extension": ".py",
   "mimetype": "text/x-python",
   "name": "python",
   "nbconvert_exporter": "python",
   "pygments_lexer": "ipython3",
   "version": "3.6.3"
  }
 },
 "nbformat": 4,
 "nbformat_minor": 2
}
